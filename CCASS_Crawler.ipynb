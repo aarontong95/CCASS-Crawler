{
 "cells": [
  {
   "cell_type": "code",
   "execution_count": 1,
   "metadata": {},
   "outputs": [],
   "source": [
    "from config import shareholding_columns, transaction_columns, image_save_path\n",
    "from crawler import trend_plot, transaction_finder"
   ]
  },
  {
   "cell_type": "code",
   "execution_count": 2,
   "metadata": {},
   "outputs": [],
   "source": [
    "start_date_str = '2021/01/01'\n",
    "end_date_str = '2021/01/04'\n",
    "stock_code = '00001'\n",
    "threshold = 0.01\n"
   ]
  },
  {
   "cell_type": "code",
   "execution_count": 3,
   "metadata": {
    "scrolled": true
   },
   "outputs": [
    {
     "data": {
      "text/plain": [
       "[{'date': '2021/01/01', 'participant_id': 'C00019', 'percent': 31.12},\n",
       " {'date': '2021/01/01', 'participant_id': 'C00100', 'percent': 7.95},\n",
       " {'date': '2021/01/01', 'participant_id': 'C00010', 'percent': 6.46},\n",
       " {'date': '2021/01/01', 'participant_id': 'C00039', 'percent': 3.94},\n",
       " {'date': '2021/01/01', 'participant_id': 'C00033', 'percent': 1.84},\n",
       " {'date': '2021/01/01', 'participant_id': 'C00018', 'percent': 1.78},\n",
       " {'date': '2021/01/01', 'participant_id': 'B01161', 'percent': 1.57},\n",
       " {'date': '2021/01/01', 'participant_id': 'C00074', 'percent': 1.35},\n",
       " {'date': '2021/01/01', 'participant_id': 'B01284', 'percent': 0.91},\n",
       " {'date': '2021/01/01', 'participant_id': 'C00093', 'percent': 0.61},\n",
       " {'date': '2021/01/02', 'participant_id': 'C00019', 'percent': 31.12},\n",
       " {'date': '2021/01/02', 'participant_id': 'C00100', 'percent': 7.95},\n",
       " {'date': '2021/01/02', 'participant_id': 'C00010', 'percent': 6.46},\n",
       " {'date': '2021/01/02', 'participant_id': 'C00039', 'percent': 3.94},\n",
       " {'date': '2021/01/02', 'participant_id': 'C00033', 'percent': 1.84},\n",
       " {'date': '2021/01/02', 'participant_id': 'C00018', 'percent': 1.78},\n",
       " {'date': '2021/01/02', 'participant_id': 'B01161', 'percent': 1.57},\n",
       " {'date': '2021/01/02', 'participant_id': 'C00074', 'percent': 1.35},\n",
       " {'date': '2021/01/02', 'participant_id': 'B01284', 'percent': 0.91},\n",
       " {'date': '2021/01/02', 'participant_id': 'C00093', 'percent': 0.61},\n",
       " {'date': '2021/01/03', 'participant_id': 'C00019', 'percent': 31.12},\n",
       " {'date': '2021/01/03', 'participant_id': 'C00100', 'percent': 7.95},\n",
       " {'date': '2021/01/03', 'participant_id': 'C00010', 'percent': 6.46},\n",
       " {'date': '2021/01/03', 'participant_id': 'C00039', 'percent': 3.94},\n",
       " {'date': '2021/01/03', 'participant_id': 'C00033', 'percent': 1.84},\n",
       " {'date': '2021/01/03', 'participant_id': 'C00018', 'percent': 1.78},\n",
       " {'date': '2021/01/03', 'participant_id': 'B01161', 'percent': 1.57},\n",
       " {'date': '2021/01/03', 'participant_id': 'C00074', 'percent': 1.35},\n",
       " {'date': '2021/01/03', 'participant_id': 'B01284', 'percent': 0.91},\n",
       " {'date': '2021/01/03', 'participant_id': 'C00093', 'percent': 0.61}]"
      ]
     },
     "execution_count": 3,
     "metadata": {},
     "output_type": "execute_result"
    }
   ],
   "source": [
    "trend_plot(stock_code, start_date_str, end_date_str)"
   ]
  },
  {
   "cell_type": "code",
   "execution_count": 4,
   "metadata": {
    "scrolled": true
   },
   "outputs": [
    {
     "data": {
      "text/plain": [
       "[]"
      ]
     },
     "execution_count": 4,
     "metadata": {},
     "output_type": "execute_result"
    }
   ],
   "source": [
    "transaction_finder(stock_code, start_date_str, end_date_str, threshold)"
   ]
  },
  {
   "cell_type": "code",
   "execution_count": null,
   "metadata": {},
   "outputs": [],
   "source": []
  }
 ],
 "metadata": {
  "kernelspec": {
   "display_name": "Python 3",
   "language": "python",
   "name": "python3"
  },
  "language_info": {
   "codemirror_mode": {
    "name": "ipython",
    "version": 3
   },
   "file_extension": ".py",
   "mimetype": "text/x-python",
   "name": "python",
   "nbconvert_exporter": "python",
   "pygments_lexer": "ipython3",
   "version": "3.6.8"
  }
 },
 "nbformat": 4,
 "nbformat_minor": 4
}
